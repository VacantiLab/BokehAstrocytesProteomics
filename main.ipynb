{
 "cells": [
  {
   "cell_type": "code",
   "execution_count": 12,
   "metadata": {},
   "outputs": [],
   "source": [
    "import pandas as pd\n",
    "import numpy as np\n",
    "\n",
    "from bokeh.models import BoxAnnotation, FactorRange\n",
    "from bokeh.plotting import figure, show\n",
    "from bokeh.transform import factor_cmap\n",
    "from bokeh.palettes import Spectral4\n",
    "from bokeh.io import output_notebook"
   ]
  },
  {
   "cell_type": "code",
   "execution_count": 8,
   "metadata": {},
   "outputs": [],
   "source": [
    "# Define the data\n",
    "# Define the data\n",
    "data = {\n",
    "    'Gene': np.repeat(['Gene1', 'Gene2', 'Gene3', 'Gene4', 'Gene5'], 4),\n",
    "    'veh': np.random.randint(0, 11, size=20),\n",
    "    'oAB': np.random.randint(0, 11, size=20),\n",
    "    'gsk': np.random.randint(0, 11, size=20),\n",
    "    'oAB-gsk': np.random.randint(0, 11, size=20)\n",
    "}\n",
    "\n",
    "# Create the DataFrame\n",
    "df = pd.DataFrame(data)\n",
    "\n",
    "# Create the DataFrame\n",
    "df = pd.DataFrame(data)"
   ]
  },
  {
   "cell_type": "code",
   "execution_count": 10,
   "metadata": {},
   "outputs": [],
   "source": [
    "# Reshape the DataFrame\n",
    "df_melted = df.melt(id_vars='Gene', var_name='Series', value_name='Values')"
   ]
  },
  {
   "cell_type": "code",
   "execution_count": 35,
   "metadata": {},
   "outputs": [
    {
     "name": "stderr",
     "output_type": "stream",
     "text": [
      "BokehDeprecationWarning: 'circle() method with size value' was deprecated in Bokeh 3.4.0 and will be removed, use 'scatter(size=...) instead' instead.\n",
      "BokehDeprecationWarning: 'circle() method with size value' was deprecated in Bokeh 3.4.0 and will be removed, use 'scatter(size=...) instead' instead.\n",
      "BokehDeprecationWarning: 'circle() method with size value' was deprecated in Bokeh 3.4.0 and will be removed, use 'scatter(size=...) instead' instead.\n",
      "BokehDeprecationWarning: 'circle() method with size value' was deprecated in Bokeh 3.4.0 and will be removed, use 'scatter(size=...) instead' instead.\n"
     ]
    }
   ],
   "source": [
    "from bokeh.models import Whisker, ColumnDataSource\n",
    "\n",
    "# Create a list of series names (will be used for the legend)\n",
    "series_names = df_melted['Series'].unique().tolist()\n",
    "\n",
    "# Create a list of unique combinations of 'Gene' and 'Series'\n",
    "factors = df_melted[['Gene', 'Series']].drop_duplicates().values.tolist()\n",
    "\n",
    "# Convert each combination to a tuple\n",
    "factors = [tuple(x) for x in factors]\n",
    "\n",
    "# Create a new figure with FactorRange for x-axis to handle the multi-index\n",
    "p = figure(x_range=FactorRange(*factors), height=350, title=\"Grouped Dot Plot\",\n",
    "           toolbar_location=None, tools=\"\")\n",
    "\n",
    "# Add a dot plot for each series\n",
    "for i, series_name in enumerate(series_names):\n",
    "    df_filtered = df_melted[df_melted['Series'] == series_name]\n",
    "    p.circle(x=[(gene, series_name) for gene in df_filtered['Gene']], y=df_filtered['Values'], \n",
    "             fill_color=Spectral4[i % len(Spectral4)], size=10, legend_label=series_name)\n",
    "\n",
    "    # Calculate mean and standard deviation for each gene in the series\n",
    "    means = df_filtered.groupby('Gene')['Values'].mean()\n",
    "    stds = df_filtered.groupby('Gene')['Values'].std()\n",
    "\n",
    "    # Create a ColumnDataSource that contains the mean and standard deviation\n",
    "    source = ColumnDataSource(data=dict(\n",
    "        base=[(gene, series_name) for gene in means.index],\n",
    "        lower=means - stds,\n",
    "        upper=means + stds\n",
    "    ))\n",
    "\n",
    "    # Add error bars\n",
    "    p.add_layout(\n",
    "        Whisker(source=source, base=\"base\", upper=\"upper\", lower=\"lower\")\n",
    "    )\n",
    "\n",
    "p.xgrid.grid_line_color = None\n",
    "p.y_range.start = 0\n",
    "p.xaxis.major_label_orientation = 1.2\n",
    "p.legend.location = \"top_left\"\n",
    "\n",
    "# Show the plot\n",
    "show(p)"
   ]
  }
 ],
 "metadata": {
  "kernelspec": {
   "display_name": "analysis",
   "language": "python",
   "name": "python3"
  },
  "language_info": {
   "codemirror_mode": {
    "name": "ipython",
    "version": 3
   },
   "file_extension": ".py",
   "mimetype": "text/x-python",
   "name": "python",
   "nbconvert_exporter": "python",
   "pygments_lexer": "ipython3",
   "version": "3.12.2"
  }
 },
 "nbformat": 4,
 "nbformat_minor": 2
}
